{
  "nbformat": 4,
  "nbformat_minor": 0,
  "metadata": {
    "colab": {
      "provenance": []
    },
    "kernelspec": {
      "name": "python3",
      "display_name": "Python 3"
    },
    "language_info": {
      "name": "python"
    }
  },
  "cells": [
    {
      "cell_type": "code",
      "execution_count": 24,
      "metadata": {
        "colab": {
          "base_uri": "https://localhost:8080/",
          "height": 177
        },
        "id": "_DZR0MtS2-QX",
        "outputId": "0ad937c7-07f9-4924-a3ae-f28a64e2b12c"
      },
      "outputs": [
        {
          "output_type": "display_data",
          "data": {
            "text/plain": [
              "<IPython.core.display.HTML object>"
            ],
            "text/html": [
              "\n",
              "     <input type=\"file\" id=\"files-f241500e-27f4-4e73-ba13-1f6170893cbe\" name=\"files[]\" multiple disabled\n",
              "        style=\"border:none\" />\n",
              "     <output id=\"result-f241500e-27f4-4e73-ba13-1f6170893cbe\">\n",
              "      Upload widget is only available when the cell has been executed in the\n",
              "      current browser session. Please rerun this cell to enable.\n",
              "      </output>\n",
              "      <script>// Copyright 2017 Google LLC\n",
              "//\n",
              "// Licensed under the Apache License, Version 2.0 (the \"License\");\n",
              "// you may not use this file except in compliance with the License.\n",
              "// You may obtain a copy of the License at\n",
              "//\n",
              "//      http://www.apache.org/licenses/LICENSE-2.0\n",
              "//\n",
              "// Unless required by applicable law or agreed to in writing, software\n",
              "// distributed under the License is distributed on an \"AS IS\" BASIS,\n",
              "// WITHOUT WARRANTIES OR CONDITIONS OF ANY KIND, either express or implied.\n",
              "// See the License for the specific language governing permissions and\n",
              "// limitations under the License.\n",
              "\n",
              "/**\n",
              " * @fileoverview Helpers for google.colab Python module.\n",
              " */\n",
              "(function(scope) {\n",
              "function span(text, styleAttributes = {}) {\n",
              "  const element = document.createElement('span');\n",
              "  element.textContent = text;\n",
              "  for (const key of Object.keys(styleAttributes)) {\n",
              "    element.style[key] = styleAttributes[key];\n",
              "  }\n",
              "  return element;\n",
              "}\n",
              "\n",
              "// Max number of bytes which will be uploaded at a time.\n",
              "const MAX_PAYLOAD_SIZE = 100 * 1024;\n",
              "\n",
              "function _uploadFiles(inputId, outputId) {\n",
              "  const steps = uploadFilesStep(inputId, outputId);\n",
              "  const outputElement = document.getElementById(outputId);\n",
              "  // Cache steps on the outputElement to make it available for the next call\n",
              "  // to uploadFilesContinue from Python.\n",
              "  outputElement.steps = steps;\n",
              "\n",
              "  return _uploadFilesContinue(outputId);\n",
              "}\n",
              "\n",
              "// This is roughly an async generator (not supported in the browser yet),\n",
              "// where there are multiple asynchronous steps and the Python side is going\n",
              "// to poll for completion of each step.\n",
              "// This uses a Promise to block the python side on completion of each step,\n",
              "// then passes the result of the previous step as the input to the next step.\n",
              "function _uploadFilesContinue(outputId) {\n",
              "  const outputElement = document.getElementById(outputId);\n",
              "  const steps = outputElement.steps;\n",
              "\n",
              "  const next = steps.next(outputElement.lastPromiseValue);\n",
              "  return Promise.resolve(next.value.promise).then((value) => {\n",
              "    // Cache the last promise value to make it available to the next\n",
              "    // step of the generator.\n",
              "    outputElement.lastPromiseValue = value;\n",
              "    return next.value.response;\n",
              "  });\n",
              "}\n",
              "\n",
              "/**\n",
              " * Generator function which is called between each async step of the upload\n",
              " * process.\n",
              " * @param {string} inputId Element ID of the input file picker element.\n",
              " * @param {string} outputId Element ID of the output display.\n",
              " * @return {!Iterable<!Object>} Iterable of next steps.\n",
              " */\n",
              "function* uploadFilesStep(inputId, outputId) {\n",
              "  const inputElement = document.getElementById(inputId);\n",
              "  inputElement.disabled = false;\n",
              "\n",
              "  const outputElement = document.getElementById(outputId);\n",
              "  outputElement.innerHTML = '';\n",
              "\n",
              "  const pickedPromise = new Promise((resolve) => {\n",
              "    inputElement.addEventListener('change', (e) => {\n",
              "      resolve(e.target.files);\n",
              "    });\n",
              "  });\n",
              "\n",
              "  const cancel = document.createElement('button');\n",
              "  inputElement.parentElement.appendChild(cancel);\n",
              "  cancel.textContent = 'Cancel upload';\n",
              "  const cancelPromise = new Promise((resolve) => {\n",
              "    cancel.onclick = () => {\n",
              "      resolve(null);\n",
              "    };\n",
              "  });\n",
              "\n",
              "  // Wait for the user to pick the files.\n",
              "  const files = yield {\n",
              "    promise: Promise.race([pickedPromise, cancelPromise]),\n",
              "    response: {\n",
              "      action: 'starting',\n",
              "    }\n",
              "  };\n",
              "\n",
              "  cancel.remove();\n",
              "\n",
              "  // Disable the input element since further picks are not allowed.\n",
              "  inputElement.disabled = true;\n",
              "\n",
              "  if (!files) {\n",
              "    return {\n",
              "      response: {\n",
              "        action: 'complete',\n",
              "      }\n",
              "    };\n",
              "  }\n",
              "\n",
              "  for (const file of files) {\n",
              "    const li = document.createElement('li');\n",
              "    li.append(span(file.name, {fontWeight: 'bold'}));\n",
              "    li.append(span(\n",
              "        `(${file.type || 'n/a'}) - ${file.size} bytes, ` +\n",
              "        `last modified: ${\n",
              "            file.lastModifiedDate ? file.lastModifiedDate.toLocaleDateString() :\n",
              "                                    'n/a'} - `));\n",
              "    const percent = span('0% done');\n",
              "    li.appendChild(percent);\n",
              "\n",
              "    outputElement.appendChild(li);\n",
              "\n",
              "    const fileDataPromise = new Promise((resolve) => {\n",
              "      const reader = new FileReader();\n",
              "      reader.onload = (e) => {\n",
              "        resolve(e.target.result);\n",
              "      };\n",
              "      reader.readAsArrayBuffer(file);\n",
              "    });\n",
              "    // Wait for the data to be ready.\n",
              "    let fileData = yield {\n",
              "      promise: fileDataPromise,\n",
              "      response: {\n",
              "        action: 'continue',\n",
              "      }\n",
              "    };\n",
              "\n",
              "    // Use a chunked sending to avoid message size limits. See b/62115660.\n",
              "    let position = 0;\n",
              "    do {\n",
              "      const length = Math.min(fileData.byteLength - position, MAX_PAYLOAD_SIZE);\n",
              "      const chunk = new Uint8Array(fileData, position, length);\n",
              "      position += length;\n",
              "\n",
              "      const base64 = btoa(String.fromCharCode.apply(null, chunk));\n",
              "      yield {\n",
              "        response: {\n",
              "          action: 'append',\n",
              "          file: file.name,\n",
              "          data: base64,\n",
              "        },\n",
              "      };\n",
              "\n",
              "      let percentDone = fileData.byteLength === 0 ?\n",
              "          100 :\n",
              "          Math.round((position / fileData.byteLength) * 100);\n",
              "      percent.textContent = `${percentDone}% done`;\n",
              "\n",
              "    } while (position < fileData.byteLength);\n",
              "  }\n",
              "\n",
              "  // All done.\n",
              "  yield {\n",
              "    response: {\n",
              "      action: 'complete',\n",
              "    }\n",
              "  };\n",
              "}\n",
              "\n",
              "scope.google = scope.google || {};\n",
              "scope.google.colab = scope.google.colab || {};\n",
              "scope.google.colab._files = {\n",
              "  _uploadFiles,\n",
              "  _uploadFilesContinue,\n",
              "};\n",
              "})(self);\n",
              "</script> "
            ]
          },
          "metadata": {}
        },
        {
          "output_type": "stream",
          "name": "stdout",
          "text": [
            "Saving boo2 sports01.xlsx to boo2 sports01.xlsx\n",
            "                                             comment target\n",
            "0     تاکہ ہارنے کے بعد اِن دونوں پر مدہ ڈالا جا سکے    neg\n",
            "1  انشاءاللہ بھائی تم جیت یا ہمیں تم سے پیار ہےبہ...    pos\n",
            "2  انڈیا کے ساتھ ایشیا کپ میچ میں  کتنے رنز بنانا...    pos\n",
            "3  گنگولی کے دیس میں ٹیلنٹ بہت ہے ہمارے ہاں ایسا ...    pos\n",
            "4  متفق  افراد کو جوڑنا سب کو ضرورت کی جگہ پر  کر...    neu\n"
          ]
        }
      ],
      "source": [
        "from google.colab import files\n",
        "import pandas as pd\n",
        "\n",
        "uploaded = files.upload()\n",
        "\n",
        "for filename in uploaded.keys():\n",
        "    if filename.endswith('.xls') or filename.endswith('.xlsx'):\n",
        "        data = pd.read_excel(filename)\n",
        "        print(data.head())\n",
        "    else:\n",
        "        print(\"Unsupported file format. Please upload an Excel file.\")"
      ]
    },
    {
      "cell_type": "markdown",
      "metadata": {
        "id": "g7emeVMf8ZEd"
      },
      "source": [
        "# Data PreProcessing"
      ]
    },
    {
      "cell_type": "code",
      "source": [
        "!pip install urduhack"
      ],
      "metadata": {
        "colab": {
          "base_uri": "https://localhost:8080/"
        },
        "id": "xSbBHlDk3MfO",
        "outputId": "a547fb70-2e6e-41ad-dc56-11f55d80a18a"
      },
      "execution_count": 25,
      "outputs": [
        {
          "output_type": "stream",
          "name": "stdout",
          "text": [
            "Requirement already satisfied: urduhack in /usr/local/lib/python3.10/dist-packages (1.1.1)\n",
            "Requirement already satisfied: tf2crf in /usr/local/lib/python3.10/dist-packages (from urduhack) (0.1.33)\n",
            "Requirement already satisfied: tensorflow-datasets~=3.1 in /usr/local/lib/python3.10/dist-packages (from urduhack) (3.2.1)\n",
            "Requirement already satisfied: Click~=7.1 in /usr/local/lib/python3.10/dist-packages (from urduhack) (7.1.2)\n",
            "Requirement already satisfied: regex in /usr/local/lib/python3.10/dist-packages (from urduhack) (2023.12.25)\n",
            "Requirement already satisfied: absl-py in /usr/local/lib/python3.10/dist-packages (from tensorflow-datasets~=3.1->urduhack) (1.4.0)\n",
            "Requirement already satisfied: attrs>=18.1.0 in /usr/local/lib/python3.10/dist-packages (from tensorflow-datasets~=3.1->urduhack) (23.2.0)\n",
            "Requirement already satisfied: dill in /usr/local/lib/python3.10/dist-packages (from tensorflow-datasets~=3.1->urduhack) (0.3.8)\n",
            "Requirement already satisfied: future in /usr/local/lib/python3.10/dist-packages (from tensorflow-datasets~=3.1->urduhack) (0.18.3)\n",
            "Requirement already satisfied: numpy in /usr/local/lib/python3.10/dist-packages (from tensorflow-datasets~=3.1->urduhack) (1.25.2)\n",
            "Requirement already satisfied: promise in /usr/local/lib/python3.10/dist-packages (from tensorflow-datasets~=3.1->urduhack) (2.3)\n",
            "Requirement already satisfied: protobuf>=3.6.1 in /usr/local/lib/python3.10/dist-packages (from tensorflow-datasets~=3.1->urduhack) (3.20.3)\n",
            "Requirement already satisfied: requests>=2.19.0 in /usr/local/lib/python3.10/dist-packages (from tensorflow-datasets~=3.1->urduhack) (2.31.0)\n",
            "Requirement already satisfied: six in /usr/local/lib/python3.10/dist-packages (from tensorflow-datasets~=3.1->urduhack) (1.16.0)\n",
            "Requirement already satisfied: tensorflow-metadata in /usr/local/lib/python3.10/dist-packages (from tensorflow-datasets~=3.1->urduhack) (1.15.0)\n",
            "Requirement already satisfied: termcolor in /usr/local/lib/python3.10/dist-packages (from tensorflow-datasets~=3.1->urduhack) (2.4.0)\n",
            "Requirement already satisfied: tqdm in /usr/local/lib/python3.10/dist-packages (from tensorflow-datasets~=3.1->urduhack) (4.66.4)\n",
            "Requirement already satisfied: wrapt in /usr/local/lib/python3.10/dist-packages (from tensorflow-datasets~=3.1->urduhack) (1.14.1)\n",
            "Requirement already satisfied: tensorflow>=2.1.0 in /usr/local/lib/python3.10/dist-packages (from tf2crf->urduhack) (2.15.0)\n",
            "Requirement already satisfied: tensorflow-addons>=0.8.2 in /usr/local/lib/python3.10/dist-packages (from tf2crf->urduhack) (0.23.0)\n",
            "Requirement already satisfied: charset-normalizer<4,>=2 in /usr/local/lib/python3.10/dist-packages (from requests>=2.19.0->tensorflow-datasets~=3.1->urduhack) (3.3.2)\n",
            "Requirement already satisfied: idna<4,>=2.5 in /usr/local/lib/python3.10/dist-packages (from requests>=2.19.0->tensorflow-datasets~=3.1->urduhack) (3.7)\n",
            "Requirement already satisfied: urllib3<3,>=1.21.1 in /usr/local/lib/python3.10/dist-packages (from requests>=2.19.0->tensorflow-datasets~=3.1->urduhack) (2.0.7)\n",
            "Requirement already satisfied: certifi>=2017.4.17 in /usr/local/lib/python3.10/dist-packages (from requests>=2.19.0->tensorflow-datasets~=3.1->urduhack) (2024.2.2)\n",
            "Requirement already satisfied: astunparse>=1.6.0 in /usr/local/lib/python3.10/dist-packages (from tensorflow>=2.1.0->tf2crf->urduhack) (1.6.3)\n",
            "Requirement already satisfied: flatbuffers>=23.5.26 in /usr/local/lib/python3.10/dist-packages (from tensorflow>=2.1.0->tf2crf->urduhack) (24.3.25)\n",
            "Requirement already satisfied: gast!=0.5.0,!=0.5.1,!=0.5.2,>=0.2.1 in /usr/local/lib/python3.10/dist-packages (from tensorflow>=2.1.0->tf2crf->urduhack) (0.5.4)\n",
            "Requirement already satisfied: google-pasta>=0.1.1 in /usr/local/lib/python3.10/dist-packages (from tensorflow>=2.1.0->tf2crf->urduhack) (0.2.0)\n",
            "Requirement already satisfied: h5py>=2.9.0 in /usr/local/lib/python3.10/dist-packages (from tensorflow>=2.1.0->tf2crf->urduhack) (3.9.0)\n",
            "Requirement already satisfied: libclang>=13.0.0 in /usr/local/lib/python3.10/dist-packages (from tensorflow>=2.1.0->tf2crf->urduhack) (18.1.1)\n",
            "Requirement already satisfied: ml-dtypes~=0.2.0 in /usr/local/lib/python3.10/dist-packages (from tensorflow>=2.1.0->tf2crf->urduhack) (0.2.0)\n",
            "Requirement already satisfied: opt-einsum>=2.3.2 in /usr/local/lib/python3.10/dist-packages (from tensorflow>=2.1.0->tf2crf->urduhack) (3.3.0)\n",
            "Requirement already satisfied: packaging in /usr/local/lib/python3.10/dist-packages (from tensorflow>=2.1.0->tf2crf->urduhack) (24.0)\n",
            "Requirement already satisfied: setuptools in /usr/local/lib/python3.10/dist-packages (from tensorflow>=2.1.0->tf2crf->urduhack) (67.7.2)\n",
            "Requirement already satisfied: typing-extensions>=3.6.6 in /usr/local/lib/python3.10/dist-packages (from tensorflow>=2.1.0->tf2crf->urduhack) (4.11.0)\n",
            "Requirement already satisfied: tensorflow-io-gcs-filesystem>=0.23.1 in /usr/local/lib/python3.10/dist-packages (from tensorflow>=2.1.0->tf2crf->urduhack) (0.37.0)\n",
            "Requirement already satisfied: grpcio<2.0,>=1.24.3 in /usr/local/lib/python3.10/dist-packages (from tensorflow>=2.1.0->tf2crf->urduhack) (1.63.0)\n",
            "Requirement already satisfied: tensorboard<2.16,>=2.15 in /usr/local/lib/python3.10/dist-packages (from tensorflow>=2.1.0->tf2crf->urduhack) (2.15.2)\n",
            "Requirement already satisfied: tensorflow-estimator<2.16,>=2.15.0 in /usr/local/lib/python3.10/dist-packages (from tensorflow>=2.1.0->tf2crf->urduhack) (2.15.0)\n",
            "Requirement already satisfied: keras<2.16,>=2.15.0 in /usr/local/lib/python3.10/dist-packages (from tensorflow>=2.1.0->tf2crf->urduhack) (2.15.0)\n",
            "Requirement already satisfied: typeguard<3.0.0,>=2.7 in /usr/local/lib/python3.10/dist-packages (from tensorflow-addons>=0.8.2->tf2crf->urduhack) (2.13.3)\n",
            "Requirement already satisfied: wheel<1.0,>=0.23.0 in /usr/local/lib/python3.10/dist-packages (from astunparse>=1.6.0->tensorflow>=2.1.0->tf2crf->urduhack) (0.43.0)\n",
            "Requirement already satisfied: google-auth<3,>=1.6.3 in /usr/local/lib/python3.10/dist-packages (from tensorboard<2.16,>=2.15->tensorflow>=2.1.0->tf2crf->urduhack) (2.27.0)\n",
            "Requirement already satisfied: google-auth-oauthlib<2,>=0.5 in /usr/local/lib/python3.10/dist-packages (from tensorboard<2.16,>=2.15->tensorflow>=2.1.0->tf2crf->urduhack) (1.2.0)\n",
            "Requirement already satisfied: markdown>=2.6.8 in /usr/local/lib/python3.10/dist-packages (from tensorboard<2.16,>=2.15->tensorflow>=2.1.0->tf2crf->urduhack) (3.6)\n",
            "Requirement already satisfied: tensorboard-data-server<0.8.0,>=0.7.0 in /usr/local/lib/python3.10/dist-packages (from tensorboard<2.16,>=2.15->tensorflow>=2.1.0->tf2crf->urduhack) (0.7.2)\n",
            "Requirement already satisfied: werkzeug>=1.0.1 in /usr/local/lib/python3.10/dist-packages (from tensorboard<2.16,>=2.15->tensorflow>=2.1.0->tf2crf->urduhack) (3.0.3)\n",
            "Requirement already satisfied: cachetools<6.0,>=2.0.0 in /usr/local/lib/python3.10/dist-packages (from google-auth<3,>=1.6.3->tensorboard<2.16,>=2.15->tensorflow>=2.1.0->tf2crf->urduhack) (5.3.3)\n",
            "Requirement already satisfied: pyasn1-modules>=0.2.1 in /usr/local/lib/python3.10/dist-packages (from google-auth<3,>=1.6.3->tensorboard<2.16,>=2.15->tensorflow>=2.1.0->tf2crf->urduhack) (0.4.0)\n",
            "Requirement already satisfied: rsa<5,>=3.1.4 in /usr/local/lib/python3.10/dist-packages (from google-auth<3,>=1.6.3->tensorboard<2.16,>=2.15->tensorflow>=2.1.0->tf2crf->urduhack) (4.9)\n",
            "Requirement already satisfied: requests-oauthlib>=0.7.0 in /usr/local/lib/python3.10/dist-packages (from google-auth-oauthlib<2,>=0.5->tensorboard<2.16,>=2.15->tensorflow>=2.1.0->tf2crf->urduhack) (1.3.1)\n",
            "Requirement already satisfied: MarkupSafe>=2.1.1 in /usr/local/lib/python3.10/dist-packages (from werkzeug>=1.0.1->tensorboard<2.16,>=2.15->tensorflow>=2.1.0->tf2crf->urduhack) (2.1.5)\n",
            "Requirement already satisfied: pyasn1<0.7.0,>=0.4.6 in /usr/local/lib/python3.10/dist-packages (from pyasn1-modules>=0.2.1->google-auth<3,>=1.6.3->tensorboard<2.16,>=2.15->tensorflow>=2.1.0->tf2crf->urduhack) (0.6.0)\n",
            "Requirement already satisfied: oauthlib>=3.0.0 in /usr/local/lib/python3.10/dist-packages (from requests-oauthlib>=0.7.0->google-auth-oauthlib<2,>=0.5->tensorboard<2.16,>=2.15->tensorflow>=2.1.0->tf2crf->urduhack) (3.2.2)\n"
          ]
        }
      ]
    },
    {
      "cell_type": "code",
      "source": [
        "!pip install demoji"
      ],
      "metadata": {
        "colab": {
          "base_uri": "https://localhost:8080/"
        },
        "id": "FVMz5K7A3aWt",
        "outputId": "02e8fa41-a4d6-4f69-beed-a6a9d0cb4d88"
      },
      "execution_count": 26,
      "outputs": [
        {
          "output_type": "stream",
          "name": "stdout",
          "text": [
            "Requirement already satisfied: demoji in /usr/local/lib/python3.10/dist-packages (1.1.0)\n"
          ]
        }
      ]
    },
    {
      "cell_type": "code",
      "source": [
        "import re\n",
        "import string\n",
        "import nltk\n",
        "import warnings\n",
        "warnings.filterwarnings('ignore')\n",
        "\n",
        "from sklearn.preprocessing import LabelEncoder\n",
        "from sklearn.model_selection import train_test_split\n",
        "from sklearn.metrics import accuracy_score, precision_score, recall_score, f1_score\n",
        "\n",
        "from tensorflow import keras\n",
        "from tensorflow.keras import layers\n",
        "from tensorflow.keras.preprocessing import sequence\n",
        "from tensorflow.keras.preprocessing.sequence import pad_sequences\n",
        "from tensorflow.keras.preprocessing.text import Tokenizer\n",
        "from tensorflow.keras.utils import to_categorical\n",
        "from tensorflow.keras.models import Sequential\n",
        "from tensorflow.keras.layers import Dense, Dropout, SimpleRNN, Activation, LSTM, GRU, Embedding, Bidirectional, InputLayer\n",
        "from gensim.models import KeyedVectors\n",
        "\n",
        "from prettytable import PrettyTable\n",
        "from collections import Counter\n",
        "\n",
        "import urduhack\n",
        "urduhack.download()\n",
        "from urduhack.preprocessing import replace_urls\n",
        "from urduhack.preprocessing import replace_numbers\n",
        "from urduhack.preprocessing import remove_punctuation\n",
        "from urduhack.preprocessing import remove_accents\n",
        "from urduhack.preprocessing import remove_english_alphabets\n",
        "from urduhack.preprocessing import normalize_whitespace\n",
        "from urduhack.models.lemmatizer import lemmatizer\n",
        "from urduhack.normalization import normalize\n",
        "\n",
        "import demoji"
      ],
      "metadata": {
        "id": "apSbzYiz3khf"
      },
      "execution_count": 27,
      "outputs": []
    },
    {
      "cell_type": "code",
      "source": [
        "data.shape"
      ],
      "metadata": {
        "colab": {
          "base_uri": "https://localhost:8080/"
        },
        "id": "xaIvcMZ63sUS",
        "outputId": "8f88bb21-3b60-49d0-92c8-76f39fc5fa9c"
      },
      "execution_count": 28,
      "outputs": [
        {
          "output_type": "execute_result",
          "data": {
            "text/plain": [
              "(10004, 2)"
            ]
          },
          "metadata": {},
          "execution_count": 28
        }
      ]
    },
    {
      "cell_type": "code",
      "source": [
        "data['target'].value_counts()"
      ],
      "metadata": {
        "colab": {
          "base_uri": "https://localhost:8080/"
        },
        "id": "-EY3xsZ03211",
        "outputId": "83003b91-2935-4ddf-c86e-93660b936431"
      },
      "execution_count": 29,
      "outputs": [
        {
          "output_type": "execute_result",
          "data": {
            "text/plain": [
              "target\n",
              "neg    3873\n",
              "neu    3178\n",
              "pos    2953\n",
              "Name: count, dtype: int64"
            ]
          },
          "metadata": {},
          "execution_count": 29
        }
      ]
    },
    {
      "cell_type": "code",
      "source": [
        "data['comment'].value_counts()"
      ],
      "metadata": {
        "colab": {
          "base_uri": "https://localhost:8080/"
        },
        "id": "F1QbjVkg36Ya",
        "outputId": "40b281d6-b425-4f95-cb7c-3c0213b7f707"
      },
      "execution_count": 30,
      "outputs": [
        {
          "output_type": "execute_result",
          "data": {
            "text/plain": [
              "comment\n",
              "لعنت ایسے کلپ پر                                                                                                               3\n",
              "آخری بال اس طرح نہیں کراتے بچے                                                                                                 3\n",
              "کسی ایک میچ میں سکور بنا کر بابر اعظم کا مقابلہ نہیں کر سکتے بابر اعظم گریٹ پلئیر ھے                                           3\n",
              "آپکا تلفظ اور اردو لہجہ بہت بہت زیادہ خراب ہے آپ کو اچھا کمینٹیٹر نہیں ملتا تو چینل بند کردو یہ پشتو لہجہ میں اردو مت سُناؤ    3\n",
              "اپنی ب بند کر ثانیہ مرزا کو چھوڑ کر ایک کنجری سے شادی کی ہے تو ایسا نہ مرزا ثنا جاوید طوائف                                    3\n",
              "                                                                                                                              ..\n",
              "اگر وہ ٹیسٹ سیریز کھیلتے ہیں تو ہم اس لمحے کو دوبارہ دیکھ سکتے ہیں                                                             1\n",
              "ہر ایک اب بھی یونوچس سے بھرا ہوا ہے                                                                                            1\n",
              "تو مجھے کیا کرنا چاہئے دہائی میں واپس جاؤں اور اس وقت میں پیدا ہوں                                                             1\n",
              "ہندوستانی نسل پرستانہ ہونا بند کردیتے ہیں                                                                                      1\n",
              "دونوں چیزیں بہت سے بالروں میں موجودہے پھر بھی اکرم کا متبادل نہیں                                                              1\n",
              "Name: count, Length: 9839, dtype: int64"
            ]
          },
          "metadata": {},
          "execution_count": 30
        }
      ]
    },
    {
      "cell_type": "code",
      "source": [
        "def clean_comment(comment):\n",
        "\n",
        "    comment = demoji.replace(comment,\"\")\n",
        "\n",
        "    comment = re.sub(r'@[A-Za-z0-9]+', '', comment)\n",
        "\n",
        "    comment = re.sub(r'#[A-Za-z0-9]*', '', comment)\n",
        "\n",
        "    comment = replace_urls(comment,replace_with=\"\")\n",
        "\n",
        "    comment = replace_numbers(comment,replace_with=\"\")\n",
        "\n",
        "    comment = remove_accents(comment)\n",
        "\n",
        "    comment = remove_english_alphabets(comment)\n",
        "\n",
        "    comment = normalize_whitespace(comment)\n",
        "\n",
        "    comment = remove_punctuation(comment)\n",
        "\n",
        "    comment = normalize(comment)\n",
        "\n",
        "    comment = re.sub(r'\\+', '', comment)\n",
        "\n",
        "    comment = re.sub(r'\\=', '', comment)\n",
        "\n",
        "    return comment\n",
        "\n",
        "for i in data.index:\n",
        "    a = data['comment'][i]\n",
        "    b = clean_comment(a)\n",
        "    data.loc[[i],['comment']] = b"
      ],
      "metadata": {
        "id": "5NJ5pimt39-R"
      },
      "execution_count": 31,
      "outputs": []
    },
    {
      "cell_type": "code",
      "source": [
        "print('\\n')\n",
        "data.head()"
      ],
      "metadata": {
        "colab": {
          "base_uri": "https://localhost:8080/",
          "height": 241
        },
        "id": "bx4zVmAc4Iyd",
        "outputId": "5df1174e-c590-4205-d70f-e7ccd72c0a63"
      },
      "execution_count": 32,
      "outputs": [
        {
          "output_type": "stream",
          "name": "stdout",
          "text": [
            "\n",
            "\n"
          ]
        },
        {
          "output_type": "execute_result",
          "data": {
            "text/plain": [
              "                                             comment target\n",
              "0      تاکہ ہارنے کے بعد ان دونوں پر مدہ ڈالا جا سکے    neg\n",
              "1  انشاءاللہ بھائی تم جیت یا ہمیں تم سے پیار ہےبہ...    pos\n",
              "2  انڈیا کے ساتھ ایشیا کپ میچ میں کتنے رنز بنانا ...    pos\n",
              "3  گنگولی کے دیس میں ٹیلنٹ بہت ہے ہمارے ہاں ایسا ...    pos\n",
              "4  متفق افراد کو جوڑنا سب کو ضرورت کی جگہ پر کرنا...    neu"
            ],
            "text/html": [
              "\n",
              "  <div id=\"df-df050e0f-51f3-4da3-93c8-d03681c51055\" class=\"colab-df-container\">\n",
              "    <div>\n",
              "<style scoped>\n",
              "    .dataframe tbody tr th:only-of-type {\n",
              "        vertical-align: middle;\n",
              "    }\n",
              "\n",
              "    .dataframe tbody tr th {\n",
              "        vertical-align: top;\n",
              "    }\n",
              "\n",
              "    .dataframe thead th {\n",
              "        text-align: right;\n",
              "    }\n",
              "</style>\n",
              "<table border=\"1\" class=\"dataframe\">\n",
              "  <thead>\n",
              "    <tr style=\"text-align: right;\">\n",
              "      <th></th>\n",
              "      <th>comment</th>\n",
              "      <th>target</th>\n",
              "    </tr>\n",
              "  </thead>\n",
              "  <tbody>\n",
              "    <tr>\n",
              "      <th>0</th>\n",
              "      <td>تاکہ ہارنے کے بعد ان دونوں پر مدہ ڈالا جا سکے</td>\n",
              "      <td>neg</td>\n",
              "    </tr>\n",
              "    <tr>\n",
              "      <th>1</th>\n",
              "      <td>انشاءاللہ بھائی تم جیت یا ہمیں تم سے پیار ہےبہ...</td>\n",
              "      <td>pos</td>\n",
              "    </tr>\n",
              "    <tr>\n",
              "      <th>2</th>\n",
              "      <td>انڈیا کے ساتھ ایشیا کپ میچ میں کتنے رنز بنانا ...</td>\n",
              "      <td>pos</td>\n",
              "    </tr>\n",
              "    <tr>\n",
              "      <th>3</th>\n",
              "      <td>گنگولی کے دیس میں ٹیلنٹ بہت ہے ہمارے ہاں ایسا ...</td>\n",
              "      <td>pos</td>\n",
              "    </tr>\n",
              "    <tr>\n",
              "      <th>4</th>\n",
              "      <td>متفق افراد کو جوڑنا سب کو ضرورت کی جگہ پر کرنا...</td>\n",
              "      <td>neu</td>\n",
              "    </tr>\n",
              "  </tbody>\n",
              "</table>\n",
              "</div>\n",
              "    <div class=\"colab-df-buttons\">\n",
              "\n",
              "  <div class=\"colab-df-container\">\n",
              "    <button class=\"colab-df-convert\" onclick=\"convertToInteractive('df-df050e0f-51f3-4da3-93c8-d03681c51055')\"\n",
              "            title=\"Convert this dataframe to an interactive table.\"\n",
              "            style=\"display:none;\">\n",
              "\n",
              "  <svg xmlns=\"http://www.w3.org/2000/svg\" height=\"24px\" viewBox=\"0 -960 960 960\">\n",
              "    <path d=\"M120-120v-720h720v720H120Zm60-500h600v-160H180v160Zm220 220h160v-160H400v160Zm0 220h160v-160H400v160ZM180-400h160v-160H180v160Zm440 0h160v-160H620v160ZM180-180h160v-160H180v160Zm440 0h160v-160H620v160Z\"/>\n",
              "  </svg>\n",
              "    </button>\n",
              "\n",
              "  <style>\n",
              "    .colab-df-container {\n",
              "      display:flex;\n",
              "      gap: 12px;\n",
              "    }\n",
              "\n",
              "    .colab-df-convert {\n",
              "      background-color: #E8F0FE;\n",
              "      border: none;\n",
              "      border-radius: 50%;\n",
              "      cursor: pointer;\n",
              "      display: none;\n",
              "      fill: #1967D2;\n",
              "      height: 32px;\n",
              "      padding: 0 0 0 0;\n",
              "      width: 32px;\n",
              "    }\n",
              "\n",
              "    .colab-df-convert:hover {\n",
              "      background-color: #E2EBFA;\n",
              "      box-shadow: 0px 1px 2px rgba(60, 64, 67, 0.3), 0px 1px 3px 1px rgba(60, 64, 67, 0.15);\n",
              "      fill: #174EA6;\n",
              "    }\n",
              "\n",
              "    .colab-df-buttons div {\n",
              "      margin-bottom: 4px;\n",
              "    }\n",
              "\n",
              "    [theme=dark] .colab-df-convert {\n",
              "      background-color: #3B4455;\n",
              "      fill: #D2E3FC;\n",
              "    }\n",
              "\n",
              "    [theme=dark] .colab-df-convert:hover {\n",
              "      background-color: #434B5C;\n",
              "      box-shadow: 0px 1px 3px 1px rgba(0, 0, 0, 0.15);\n",
              "      filter: drop-shadow(0px 1px 2px rgba(0, 0, 0, 0.3));\n",
              "      fill: #FFFFFF;\n",
              "    }\n",
              "  </style>\n",
              "\n",
              "    <script>\n",
              "      const buttonEl =\n",
              "        document.querySelector('#df-df050e0f-51f3-4da3-93c8-d03681c51055 button.colab-df-convert');\n",
              "      buttonEl.style.display =\n",
              "        google.colab.kernel.accessAllowed ? 'block' : 'none';\n",
              "\n",
              "      async function convertToInteractive(key) {\n",
              "        const element = document.querySelector('#df-df050e0f-51f3-4da3-93c8-d03681c51055');\n",
              "        const dataTable =\n",
              "          await google.colab.kernel.invokeFunction('convertToInteractive',\n",
              "                                                    [key], {});\n",
              "        if (!dataTable) return;\n",
              "\n",
              "        const docLinkHtml = 'Like what you see? Visit the ' +\n",
              "          '<a target=\"_blank\" href=https://colab.research.google.com/notebooks/data_table.ipynb>data table notebook</a>'\n",
              "          + ' to learn more about interactive tables.';\n",
              "        element.innerHTML = '';\n",
              "        dataTable['output_type'] = 'display_data';\n",
              "        await google.colab.output.renderOutput(dataTable, element);\n",
              "        const docLink = document.createElement('div');\n",
              "        docLink.innerHTML = docLinkHtml;\n",
              "        element.appendChild(docLink);\n",
              "      }\n",
              "    </script>\n",
              "  </div>\n",
              "\n",
              "\n",
              "<div id=\"df-44ea8dbc-47bb-4561-ac20-ca5c5affdc1f\">\n",
              "  <button class=\"colab-df-quickchart\" onclick=\"quickchart('df-44ea8dbc-47bb-4561-ac20-ca5c5affdc1f')\"\n",
              "            title=\"Suggest charts\"\n",
              "            style=\"display:none;\">\n",
              "\n",
              "<svg xmlns=\"http://www.w3.org/2000/svg\" height=\"24px\"viewBox=\"0 0 24 24\"\n",
              "     width=\"24px\">\n",
              "    <g>\n",
              "        <path d=\"M19 3H5c-1.1 0-2 .9-2 2v14c0 1.1.9 2 2 2h14c1.1 0 2-.9 2-2V5c0-1.1-.9-2-2-2zM9 17H7v-7h2v7zm4 0h-2V7h2v10zm4 0h-2v-4h2v4z\"/>\n",
              "    </g>\n",
              "</svg>\n",
              "  </button>\n",
              "\n",
              "<style>\n",
              "  .colab-df-quickchart {\n",
              "      --bg-color: #E8F0FE;\n",
              "      --fill-color: #1967D2;\n",
              "      --hover-bg-color: #E2EBFA;\n",
              "      --hover-fill-color: #174EA6;\n",
              "      --disabled-fill-color: #AAA;\n",
              "      --disabled-bg-color: #DDD;\n",
              "  }\n",
              "\n",
              "  [theme=dark] .colab-df-quickchart {\n",
              "      --bg-color: #3B4455;\n",
              "      --fill-color: #D2E3FC;\n",
              "      --hover-bg-color: #434B5C;\n",
              "      --hover-fill-color: #FFFFFF;\n",
              "      --disabled-bg-color: #3B4455;\n",
              "      --disabled-fill-color: #666;\n",
              "  }\n",
              "\n",
              "  .colab-df-quickchart {\n",
              "    background-color: var(--bg-color);\n",
              "    border: none;\n",
              "    border-radius: 50%;\n",
              "    cursor: pointer;\n",
              "    display: none;\n",
              "    fill: var(--fill-color);\n",
              "    height: 32px;\n",
              "    padding: 0;\n",
              "    width: 32px;\n",
              "  }\n",
              "\n",
              "  .colab-df-quickchart:hover {\n",
              "    background-color: var(--hover-bg-color);\n",
              "    box-shadow: 0 1px 2px rgba(60, 64, 67, 0.3), 0 1px 3px 1px rgba(60, 64, 67, 0.15);\n",
              "    fill: var(--button-hover-fill-color);\n",
              "  }\n",
              "\n",
              "  .colab-df-quickchart-complete:disabled,\n",
              "  .colab-df-quickchart-complete:disabled:hover {\n",
              "    background-color: var(--disabled-bg-color);\n",
              "    fill: var(--disabled-fill-color);\n",
              "    box-shadow: none;\n",
              "  }\n",
              "\n",
              "  .colab-df-spinner {\n",
              "    border: 2px solid var(--fill-color);\n",
              "    border-color: transparent;\n",
              "    border-bottom-color: var(--fill-color);\n",
              "    animation:\n",
              "      spin 1s steps(1) infinite;\n",
              "  }\n",
              "\n",
              "  @keyframes spin {\n",
              "    0% {\n",
              "      border-color: transparent;\n",
              "      border-bottom-color: var(--fill-color);\n",
              "      border-left-color: var(--fill-color);\n",
              "    }\n",
              "    20% {\n",
              "      border-color: transparent;\n",
              "      border-left-color: var(--fill-color);\n",
              "      border-top-color: var(--fill-color);\n",
              "    }\n",
              "    30% {\n",
              "      border-color: transparent;\n",
              "      border-left-color: var(--fill-color);\n",
              "      border-top-color: var(--fill-color);\n",
              "      border-right-color: var(--fill-color);\n",
              "    }\n",
              "    40% {\n",
              "      border-color: transparent;\n",
              "      border-right-color: var(--fill-color);\n",
              "      border-top-color: var(--fill-color);\n",
              "    }\n",
              "    60% {\n",
              "      border-color: transparent;\n",
              "      border-right-color: var(--fill-color);\n",
              "    }\n",
              "    80% {\n",
              "      border-color: transparent;\n",
              "      border-right-color: var(--fill-color);\n",
              "      border-bottom-color: var(--fill-color);\n",
              "    }\n",
              "    90% {\n",
              "      border-color: transparent;\n",
              "      border-bottom-color: var(--fill-color);\n",
              "    }\n",
              "  }\n",
              "</style>\n",
              "\n",
              "  <script>\n",
              "    async function quickchart(key) {\n",
              "      const quickchartButtonEl =\n",
              "        document.querySelector('#' + key + ' button');\n",
              "      quickchartButtonEl.disabled = true;  // To prevent multiple clicks.\n",
              "      quickchartButtonEl.classList.add('colab-df-spinner');\n",
              "      try {\n",
              "        const charts = await google.colab.kernel.invokeFunction(\n",
              "            'suggestCharts', [key], {});\n",
              "      } catch (error) {\n",
              "        console.error('Error during call to suggestCharts:', error);\n",
              "      }\n",
              "      quickchartButtonEl.classList.remove('colab-df-spinner');\n",
              "      quickchartButtonEl.classList.add('colab-df-quickchart-complete');\n",
              "    }\n",
              "    (() => {\n",
              "      let quickchartButtonEl =\n",
              "        document.querySelector('#df-44ea8dbc-47bb-4561-ac20-ca5c5affdc1f button');\n",
              "      quickchartButtonEl.style.display =\n",
              "        google.colab.kernel.accessAllowed ? 'block' : 'none';\n",
              "    })();\n",
              "  </script>\n",
              "</div>\n",
              "\n",
              "    </div>\n",
              "  </div>\n"
            ],
            "application/vnd.google.colaboratory.intrinsic+json": {
              "type": "dataframe",
              "variable_name": "data",
              "summary": "{\n  \"name\": \"data\",\n  \"rows\": 10004,\n  \"fields\": [\n    {\n      \"column\": \"comment\",\n      \"properties\": {\n        \"dtype\": \"string\",\n        \"num_unique_values\": 9831,\n        \"samples\": [\n          \"\\u0645\\u06cc\\u0688\\u06cc\\u0627 \\u06a9\\u06d2 \\u0633\\u0627\\u0645\\u0646\\u06d2 \\u067e\\u06be\\u06cc\\u0646\\u06a9 \\u062f\\u06cc\\u0627 \\u0628\\u0639\\u062f \\u0645\\u06cc\\u06ba \\u06cc\\u0642\\u06cc\\u0646\\u0627 \\u0627\\u0679\\u06be\\u0627 \\u0644\\u06cc\\u0627 \\u06c1\\u0648\\u06af\\u0627 \\u06a9\\u06cc\\u0648\\u0646\\u06a9\\u06c1 \\u062c\\u0648 \\u0644\\u0648\\u06af \\u06a9\\u0631\\u06a9\\u0679 \\u06a9\\u06d2 \\u0646\\u0627\\u0645 \\u0645\\u0644\\u06a9 \\u06a9\\u0648 \\u062c\\u06cc \\u0628\\u06be\\u0631 \\u06a9\\u0631 \\u0644\\u0648\\u0679\\u062a\\u06d2 \\u06c1\\u06cc\\u06ba \\u0648\\u06c1 \\u06a9\\u06cc\\u0633\\u06d2 \\u0631\\u0648\\u067e\\u06d2 \\u0686\\u06be\\u0648\\u0691\\u06d2 \\u06af\\u0627\",\n          \"\\u0633\\u06a9\\u0646\\u062f\\u0631 \\u0628\\u062e\\u062a \\u06a9\\u0648 \\u06a9\\u0631\\u06a9\\u0679 \\u0686\\u06cc\\u0631\\u0645\\u06cc\\u0646 \\u0628\\u0646\\u0627\\u0648\",\n          \"\\u0628\\u06d2 \\u0634\\u06a9 \\u0627\\u0639\\u0638\\u0645 \\u062e\\u0627\\u0646 \\u0644\\u0645\\u0628\\u06d2 \\u0644\\u0645\\u0628\\u06d2 \\u0686\\u06be\\u06a9\\u06d2 \\u0645\\u0627\\u0631\\u062a\\u0627 \\u06c1\\u06d2 \\u0644\\u06cc\\u06a9\\u0646 \\u0648\\u06c1 \\u0628\\u06be\\u0627\\u0631\\u062a \\u06a9\\u06cc \\u0679\\u06cc\\u0645 \\u0645\\u06cc\\u06ba \\u062c\\u06af\\u06c1 \\u0646\\u06c1\\u06cc\\u06ba \\u0628\\u0646\\u0627 \\u0633\\u06a9\\u062a\\u0627\"\n        ],\n        \"semantic_type\": \"\",\n        \"description\": \"\"\n      }\n    },\n    {\n      \"column\": \"target\",\n      \"properties\": {\n        \"dtype\": \"category\",\n        \"num_unique_values\": 3,\n        \"samples\": [\n          \"neg\",\n          \"pos\",\n          \"neu\"\n        ],\n        \"semantic_type\": \"\",\n        \"description\": \"\"\n      }\n    }\n  ]\n}"
            }
          },
          "metadata": {},
          "execution_count": 32
        }
      ]
    },
    {
      "cell_type": "code",
      "source": [
        "stop_words = set(\"\"\"             \"\"\".split())\n",
        "\n",
        "def remove_stopwords(text):\n",
        "    filtered_words = [word for word in text.split() if word not in stop_words]\n",
        "    return \" \".join(filtered_words)"
      ],
      "metadata": {
        "id": "vg4k0kKk4T5B"
      },
      "execution_count": 33,
      "outputs": []
    },
    {
      "cell_type": "code",
      "source": [
        "data[\"comment\"] = data.comment.map(remove_stopwords)"
      ],
      "metadata": {
        "id": "eraPEJwK4YPs"
      },
      "execution_count": 34,
      "outputs": []
    },
    {
      "cell_type": "code",
      "source": [
        "def lemitizeStr(text):\n",
        "    lemme_txt = \"\"\n",
        "    temp = lemmatizer.lemma_lookup(text)\n",
        "    for t in temp:\n",
        "        lemme_txt += t[0] + \" \"\n",
        "\n",
        "    return lemme_txt"
      ],
      "metadata": {
        "id": "hkIdXkWY4ewG"
      },
      "execution_count": 35,
      "outputs": []
    },
    {
      "cell_type": "code",
      "source": [
        "data[\"comment\"] = data.comment.map(lemitizeStr)"
      ],
      "metadata": {
        "id": "t2uX5dzE4gQS"
      },
      "execution_count": 36,
      "outputs": []
    },
    {
      "cell_type": "code",
      "source": [
        "print('\\n')\n",
        "data.head()"
      ],
      "metadata": {
        "colab": {
          "base_uri": "https://localhost:8080/",
          "height": 241
        },
        "id": "thVu0k8F4kml",
        "outputId": "efa4ba1f-1cde-441f-f6b3-da6716c9e4ff"
      },
      "execution_count": 37,
      "outputs": [
        {
          "output_type": "stream",
          "name": "stdout",
          "text": [
            "\n",
            "\n"
          ]
        },
        {
          "output_type": "execute_result",
          "data": {
            "text/plain": [
              "                                             comment target\n",
              "0     تاکہ ہارنے کے بعد ان دونوں پر مدہ ڈالا جا سکے     neg\n",
              "1  انشاءاللہ بھائی تم جیت یا ہمیں تم سے پیار ہےبہ...    pos\n",
              "2  انڈیا کے ساتھ ایشیا کپ میچ میں کتنے رنز بنانا ...    pos\n",
              "3  گنگولی کے دیس میں ٹیلنٹ بہت ہے ہمارے ہاں ایسا ...    pos\n",
              "4  متفق افراد کو جوڑنا سب کو ضرورت کی جگہ پر کرنا...    neu"
            ],
            "text/html": [
              "\n",
              "  <div id=\"df-a80bcec7-db07-43f5-a921-e6d706945a97\" class=\"colab-df-container\">\n",
              "    <div>\n",
              "<style scoped>\n",
              "    .dataframe tbody tr th:only-of-type {\n",
              "        vertical-align: middle;\n",
              "    }\n",
              "\n",
              "    .dataframe tbody tr th {\n",
              "        vertical-align: top;\n",
              "    }\n",
              "\n",
              "    .dataframe thead th {\n",
              "        text-align: right;\n",
              "    }\n",
              "</style>\n",
              "<table border=\"1\" class=\"dataframe\">\n",
              "  <thead>\n",
              "    <tr style=\"text-align: right;\">\n",
              "      <th></th>\n",
              "      <th>comment</th>\n",
              "      <th>target</th>\n",
              "    </tr>\n",
              "  </thead>\n",
              "  <tbody>\n",
              "    <tr>\n",
              "      <th>0</th>\n",
              "      <td>تاکہ ہارنے کے بعد ان دونوں پر مدہ ڈالا جا سکے</td>\n",
              "      <td>neg</td>\n",
              "    </tr>\n",
              "    <tr>\n",
              "      <th>1</th>\n",
              "      <td>انشاءاللہ بھائی تم جیت یا ہمیں تم سے پیار ہےبہ...</td>\n",
              "      <td>pos</td>\n",
              "    </tr>\n",
              "    <tr>\n",
              "      <th>2</th>\n",
              "      <td>انڈیا کے ساتھ ایشیا کپ میچ میں کتنے رنز بنانا ...</td>\n",
              "      <td>pos</td>\n",
              "    </tr>\n",
              "    <tr>\n",
              "      <th>3</th>\n",
              "      <td>گنگولی کے دیس میں ٹیلنٹ بہت ہے ہمارے ہاں ایسا ...</td>\n",
              "      <td>pos</td>\n",
              "    </tr>\n",
              "    <tr>\n",
              "      <th>4</th>\n",
              "      <td>متفق افراد کو جوڑنا سب کو ضرورت کی جگہ پر کرنا...</td>\n",
              "      <td>neu</td>\n",
              "    </tr>\n",
              "  </tbody>\n",
              "</table>\n",
              "</div>\n",
              "    <div class=\"colab-df-buttons\">\n",
              "\n",
              "  <div class=\"colab-df-container\">\n",
              "    <button class=\"colab-df-convert\" onclick=\"convertToInteractive('df-a80bcec7-db07-43f5-a921-e6d706945a97')\"\n",
              "            title=\"Convert this dataframe to an interactive table.\"\n",
              "            style=\"display:none;\">\n",
              "\n",
              "  <svg xmlns=\"http://www.w3.org/2000/svg\" height=\"24px\" viewBox=\"0 -960 960 960\">\n",
              "    <path d=\"M120-120v-720h720v720H120Zm60-500h600v-160H180v160Zm220 220h160v-160H400v160Zm0 220h160v-160H400v160ZM180-400h160v-160H180v160Zm440 0h160v-160H620v160ZM180-180h160v-160H180v160Zm440 0h160v-160H620v160Z\"/>\n",
              "  </svg>\n",
              "    </button>\n",
              "\n",
              "  <style>\n",
              "    .colab-df-container {\n",
              "      display:flex;\n",
              "      gap: 12px;\n",
              "    }\n",
              "\n",
              "    .colab-df-convert {\n",
              "      background-color: #E8F0FE;\n",
              "      border: none;\n",
              "      border-radius: 50%;\n",
              "      cursor: pointer;\n",
              "      display: none;\n",
              "      fill: #1967D2;\n",
              "      height: 32px;\n",
              "      padding: 0 0 0 0;\n",
              "      width: 32px;\n",
              "    }\n",
              "\n",
              "    .colab-df-convert:hover {\n",
              "      background-color: #E2EBFA;\n",
              "      box-shadow: 0px 1px 2px rgba(60, 64, 67, 0.3), 0px 1px 3px 1px rgba(60, 64, 67, 0.15);\n",
              "      fill: #174EA6;\n",
              "    }\n",
              "\n",
              "    .colab-df-buttons div {\n",
              "      margin-bottom: 4px;\n",
              "    }\n",
              "\n",
              "    [theme=dark] .colab-df-convert {\n",
              "      background-color: #3B4455;\n",
              "      fill: #D2E3FC;\n",
              "    }\n",
              "\n",
              "    [theme=dark] .colab-df-convert:hover {\n",
              "      background-color: #434B5C;\n",
              "      box-shadow: 0px 1px 3px 1px rgba(0, 0, 0, 0.15);\n",
              "      filter: drop-shadow(0px 1px 2px rgba(0, 0, 0, 0.3));\n",
              "      fill: #FFFFFF;\n",
              "    }\n",
              "  </style>\n",
              "\n",
              "    <script>\n",
              "      const buttonEl =\n",
              "        document.querySelector('#df-a80bcec7-db07-43f5-a921-e6d706945a97 button.colab-df-convert');\n",
              "      buttonEl.style.display =\n",
              "        google.colab.kernel.accessAllowed ? 'block' : 'none';\n",
              "\n",
              "      async function convertToInteractive(key) {\n",
              "        const element = document.querySelector('#df-a80bcec7-db07-43f5-a921-e6d706945a97');\n",
              "        const dataTable =\n",
              "          await google.colab.kernel.invokeFunction('convertToInteractive',\n",
              "                                                    [key], {});\n",
              "        if (!dataTable) return;\n",
              "\n",
              "        const docLinkHtml = 'Like what you see? Visit the ' +\n",
              "          '<a target=\"_blank\" href=https://colab.research.google.com/notebooks/data_table.ipynb>data table notebook</a>'\n",
              "          + ' to learn more about interactive tables.';\n",
              "        element.innerHTML = '';\n",
              "        dataTable['output_type'] = 'display_data';\n",
              "        await google.colab.output.renderOutput(dataTable, element);\n",
              "        const docLink = document.createElement('div');\n",
              "        docLink.innerHTML = docLinkHtml;\n",
              "        element.appendChild(docLink);\n",
              "      }\n",
              "    </script>\n",
              "  </div>\n",
              "\n",
              "\n",
              "<div id=\"df-4a0de472-e6a3-41c2-af46-5136807f6b28\">\n",
              "  <button class=\"colab-df-quickchart\" onclick=\"quickchart('df-4a0de472-e6a3-41c2-af46-5136807f6b28')\"\n",
              "            title=\"Suggest charts\"\n",
              "            style=\"display:none;\">\n",
              "\n",
              "<svg xmlns=\"http://www.w3.org/2000/svg\" height=\"24px\"viewBox=\"0 0 24 24\"\n",
              "     width=\"24px\">\n",
              "    <g>\n",
              "        <path d=\"M19 3H5c-1.1 0-2 .9-2 2v14c0 1.1.9 2 2 2h14c1.1 0 2-.9 2-2V5c0-1.1-.9-2-2-2zM9 17H7v-7h2v7zm4 0h-2V7h2v10zm4 0h-2v-4h2v4z\"/>\n",
              "    </g>\n",
              "</svg>\n",
              "  </button>\n",
              "\n",
              "<style>\n",
              "  .colab-df-quickchart {\n",
              "      --bg-color: #E8F0FE;\n",
              "      --fill-color: #1967D2;\n",
              "      --hover-bg-color: #E2EBFA;\n",
              "      --hover-fill-color: #174EA6;\n",
              "      --disabled-fill-color: #AAA;\n",
              "      --disabled-bg-color: #DDD;\n",
              "  }\n",
              "\n",
              "  [theme=dark] .colab-df-quickchart {\n",
              "      --bg-color: #3B4455;\n",
              "      --fill-color: #D2E3FC;\n",
              "      --hover-bg-color: #434B5C;\n",
              "      --hover-fill-color: #FFFFFF;\n",
              "      --disabled-bg-color: #3B4455;\n",
              "      --disabled-fill-color: #666;\n",
              "  }\n",
              "\n",
              "  .colab-df-quickchart {\n",
              "    background-color: var(--bg-color);\n",
              "    border: none;\n",
              "    border-radius: 50%;\n",
              "    cursor: pointer;\n",
              "    display: none;\n",
              "    fill: var(--fill-color);\n",
              "    height: 32px;\n",
              "    padding: 0;\n",
              "    width: 32px;\n",
              "  }\n",
              "\n",
              "  .colab-df-quickchart:hover {\n",
              "    background-color: var(--hover-bg-color);\n",
              "    box-shadow: 0 1px 2px rgba(60, 64, 67, 0.3), 0 1px 3px 1px rgba(60, 64, 67, 0.15);\n",
              "    fill: var(--button-hover-fill-color);\n",
              "  }\n",
              "\n",
              "  .colab-df-quickchart-complete:disabled,\n",
              "  .colab-df-quickchart-complete:disabled:hover {\n",
              "    background-color: var(--disabled-bg-color);\n",
              "    fill: var(--disabled-fill-color);\n",
              "    box-shadow: none;\n",
              "  }\n",
              "\n",
              "  .colab-df-spinner {\n",
              "    border: 2px solid var(--fill-color);\n",
              "    border-color: transparent;\n",
              "    border-bottom-color: var(--fill-color);\n",
              "    animation:\n",
              "      spin 1s steps(1) infinite;\n",
              "  }\n",
              "\n",
              "  @keyframes spin {\n",
              "    0% {\n",
              "      border-color: transparent;\n",
              "      border-bottom-color: var(--fill-color);\n",
              "      border-left-color: var(--fill-color);\n",
              "    }\n",
              "    20% {\n",
              "      border-color: transparent;\n",
              "      border-left-color: var(--fill-color);\n",
              "      border-top-color: var(--fill-color);\n",
              "    }\n",
              "    30% {\n",
              "      border-color: transparent;\n",
              "      border-left-color: var(--fill-color);\n",
              "      border-top-color: var(--fill-color);\n",
              "      border-right-color: var(--fill-color);\n",
              "    }\n",
              "    40% {\n",
              "      border-color: transparent;\n",
              "      border-right-color: var(--fill-color);\n",
              "      border-top-color: var(--fill-color);\n",
              "    }\n",
              "    60% {\n",
              "      border-color: transparent;\n",
              "      border-right-color: var(--fill-color);\n",
              "    }\n",
              "    80% {\n",
              "      border-color: transparent;\n",
              "      border-right-color: var(--fill-color);\n",
              "      border-bottom-color: var(--fill-color);\n",
              "    }\n",
              "    90% {\n",
              "      border-color: transparent;\n",
              "      border-bottom-color: var(--fill-color);\n",
              "    }\n",
              "  }\n",
              "</style>\n",
              "\n",
              "  <script>\n",
              "    async function quickchart(key) {\n",
              "      const quickchartButtonEl =\n",
              "        document.querySelector('#' + key + ' button');\n",
              "      quickchartButtonEl.disabled = true;  // To prevent multiple clicks.\n",
              "      quickchartButtonEl.classList.add('colab-df-spinner');\n",
              "      try {\n",
              "        const charts = await google.colab.kernel.invokeFunction(\n",
              "            'suggestCharts', [key], {});\n",
              "      } catch (error) {\n",
              "        console.error('Error during call to suggestCharts:', error);\n",
              "      }\n",
              "      quickchartButtonEl.classList.remove('colab-df-spinner');\n",
              "      quickchartButtonEl.classList.add('colab-df-quickchart-complete');\n",
              "    }\n",
              "    (() => {\n",
              "      let quickchartButtonEl =\n",
              "        document.querySelector('#df-4a0de472-e6a3-41c2-af46-5136807f6b28 button');\n",
              "      quickchartButtonEl.style.display =\n",
              "        google.colab.kernel.accessAllowed ? 'block' : 'none';\n",
              "    })();\n",
              "  </script>\n",
              "</div>\n",
              "\n",
              "    </div>\n",
              "  </div>\n"
            ],
            "application/vnd.google.colaboratory.intrinsic+json": {
              "type": "dataframe",
              "variable_name": "data",
              "summary": "{\n  \"name\": \"data\",\n  \"rows\": 10004,\n  \"fields\": [\n    {\n      \"column\": \"comment\",\n      \"properties\": {\n        \"dtype\": \"string\",\n        \"num_unique_values\": 9831,\n        \"samples\": [\n          \"\\u0645\\u06cc\\u0688\\u06cc\\u0627 \\u06a9\\u06d2 \\u0633\\u0627\\u0645\\u0646\\u06d2 \\u067e\\u06be\\u06cc\\u0646\\u06a9 \\u062f\\u06cc\\u0627 \\u0628\\u0639\\u062f \\u0645\\u06cc\\u06ba \\u06cc\\u0642\\u06cc\\u0646\\u0627 \\u0627\\u0679\\u06be\\u0627 \\u0644\\u06cc\\u0627 \\u06c1\\u0648\\u06af\\u0627 \\u06a9\\u06cc\\u0648\\u0646\\u06a9\\u06c1 \\u062c\\u0648 \\u0644\\u0648\\u06af \\u06a9\\u0631\\u06a9\\u0679 \\u06a9\\u06d2 \\u0646\\u0627\\u0645 \\u0645\\u0644\\u06a9 \\u06a9\\u0648 \\u062c\\u06cc \\u0628\\u06be\\u0631 \\u06a9\\u0631 \\u0644\\u0648\\u0679\\u062a\\u06d2 \\u06c1\\u06cc\\u06ba \\u0648\\u06c1 \\u06a9\\u06cc\\u0633\\u06d2 \\u0631\\u0648\\u067e\\u06d2 \\u0686\\u06be\\u0648\\u0691\\u06d2 \\u06af\\u0627 \",\n          \"\\u0633\\u06a9\\u0646\\u062f\\u0631 \\u0628\\u062e\\u062a \\u06a9\\u0648 \\u06a9\\u0631\\u06a9\\u0679 \\u0686\\u06cc\\u0631\\u0645\\u06cc\\u0646 \\u0628\\u0646\\u0627\\u0648 \",\n          \"\\u0628\\u06d2 \\u0634\\u06a9 \\u0627\\u0639\\u0638\\u0645 \\u062e\\u0627\\u0646 \\u0644\\u0645\\u0628\\u06d2 \\u0644\\u0645\\u0628\\u06d2 \\u0686\\u06be\\u06a9\\u06d2 \\u0645\\u0627\\u0631\\u062a\\u0627 \\u06c1\\u06d2 \\u0644\\u06cc\\u06a9\\u0646 \\u0648\\u06c1 \\u0628\\u06be\\u0627\\u0631\\u062a \\u06a9\\u06cc \\u0679\\u06cc\\u0645 \\u0645\\u06cc\\u06ba \\u062c\\u06af\\u06c1 \\u0646\\u06c1\\u06cc\\u06ba \\u0628\\u0646\\u0627 \\u0633\\u06a9\\u062a\\u0627 \"\n        ],\n        \"semantic_type\": \"\",\n        \"description\": \"\"\n      }\n    },\n    {\n      \"column\": \"target\",\n      \"properties\": {\n        \"dtype\": \"category\",\n        \"num_unique_values\": 3,\n        \"samples\": [\n          \"neg\",\n          \"pos\",\n          \"neu\"\n        ],\n        \"semantic_type\": \"\",\n        \"description\": \"\"\n      }\n    }\n  ]\n}"
            }
          },
          "metadata": {},
          "execution_count": 37
        }
      ]
    },
    {
      "cell_type": "markdown",
      "source": [
        "GRU"
      ],
      "metadata": {
        "id": "P402tzgbtJlT"
      }
    },
    {
      "cell_type": "code",
      "source": [
        "import pandas as pd\n",
        "from datetime import datetime\n",
        "\n",
        "# Preprocess the data and save it\n",
        "# Assuming the preprocessing steps are performed here and stored in the variable 'data'\n",
        "\n",
        "# Generate a timestamp for the filename\n",
        "timestamp = datetime.now().strftime(\"%Y%m%d_%H%M%S\")\n",
        "\n",
        "# Define the filename for the preprocessed data\n",
        "filename = f\"preprocessed_data_{timestamp}.xlsx\"\n",
        "\n",
        "# Save the preprocessed data to a known location\n",
        "file_path = f\"{filename}\"\n",
        "data.to_excel(file_path, index=False)\n",
        "\n",
        "# Print the location of the saved file\n",
        "print(\"Preprocessed data saved to:\", file_path)\n",
        "\n"
      ],
      "metadata": {
        "colab": {
          "base_uri": "https://localhost:8080/"
        },
        "id": "0N5upA9_4tWE",
        "outputId": "76fbb7f7-2a6f-4063-b43f-5a4294add26f"
      },
      "execution_count": 38,
      "outputs": [
        {
          "output_type": "stream",
          "name": "stdout",
          "text": [
            "Preprocessed data saved to: preprocessed_data_20240520_061542.xlsx\n"
          ]
        }
      ]
    },
    {
      "cell_type": "code",
      "source": [
        "import pandas as pd\n",
        "import numpy as np\n",
        "from sklearn.model_selection import train_test_split\n",
        "from keras.preprocessing.text import Tokenizer\n",
        "from keras.preprocessing.sequence import pad_sequences\n",
        "from keras.models import Sequential\n",
        "from keras.layers import Embedding, SpatialDropout1D, GRU, Dense\n",
        "from google.colab import files\n",
        "import pandas as pd\n",
        "\n",
        "file_path = \"preprocessed_data_20240520_051516.xlsx\"  # Specify the path to your file\n",
        "train_data = pd.read_excel(file_path)\n",
        "\n",
        "\n",
        "# Prepare the data\n",
        "X = data['comment']\n",
        "y = data['target']\n",
        "\n",
        "# Tokenize the text\n",
        "max_words = 10000\n",
        "tokenizer = Tokenizer(num_words=max_words)\n",
        "tokenizer.fit_on_texts(X)\n",
        "X = tokenizer.texts_to_sequences(X)\n",
        "\n",
        "# Pad sequences\n",
        "maxlen = 100\n",
        "X = pad_sequences(X, maxlen=maxlen)\n",
        "\n",
        "# Convert labels to one-hot encoded vectors\n",
        "num_classes = 3  # Assuming 3 classes for sentiment analysis\n",
        "y = pd.get_dummies(y).values\n",
        "\n",
        "# Split the dataset into training and testing sets\n",
        "X_train, X_test, y_train, y_test = train_test_split(X, y, test_size=0.2, random_state=42)\n",
        "\n",
        "# Define the GRU model\n",
        "embedding_dim = 100\n",
        "gru_units = 128\n",
        "\n",
        "model = Sequential()\n",
        "model.add(Embedding(max_words, embedding_dim, input_length=maxlen))\n",
        "model.add(SpatialDropout1D(0.2))\n",
        "model.add(GRU(gru_units, dropout=0.2, recurrent_dropout=0.2))\n",
        "model.add(Dense(num_classes, activation='softmax'))  # Use softmax for multi-class classification\n",
        "model.compile(loss='categorical_crossentropy', optimizer='adam', metrics=['accuracy'])\n",
        "\n",
        "# Print the model summary\n",
        "print(model.summary())\n",
        "\n",
        "# Train the model\n",
        "batch_size = 128\n",
        "epochs = 20\n",
        "history = model.fit(X_train, y_train, epochs=epochs, batch_size=batch_size, validation_data=(X_test, y_test), verbose=1)\n"
      ],
      "metadata": {
        "colab": {
          "base_uri": "https://localhost:8080/"
        },
        "id": "qHFmoI3743D-",
        "outputId": "20b9289f-aa87-4b97-826c-0ffbfb990153"
      },
      "execution_count": 39,
      "outputs": [
        {
          "output_type": "stream",
          "name": "stdout",
          "text": [
            "Model: \"sequential_1\"\n",
            "_________________________________________________________________\n",
            " Layer (type)                Output Shape              Param #   \n",
            "=================================================================\n",
            " embedding_1 (Embedding)     (None, 100, 100)          1000000   \n",
            "                                                                 \n",
            " spatial_dropout1d_1 (Spati  (None, 100, 100)          0         \n",
            " alDropout1D)                                                    \n",
            "                                                                 \n",
            " gru_1 (GRU)                 (None, 128)               88320     \n",
            "                                                                 \n",
            " dense_1 (Dense)             (None, 3)                 387       \n",
            "                                                                 \n",
            "=================================================================\n",
            "Total params: 1088707 (4.15 MB)\n",
            "Trainable params: 1088707 (4.15 MB)\n",
            "Non-trainable params: 0 (0.00 Byte)\n",
            "_________________________________________________________________\n",
            "None\n",
            "Epoch 1/20\n",
            "63/63 [==============================] - 53s 748ms/step - loss: 1.0405 - accuracy: 0.4537 - val_loss: 0.9642 - val_accuracy: 0.5452\n",
            "Epoch 2/20\n",
            "63/63 [==============================] - 46s 738ms/step - loss: 0.8005 - accuracy: 0.6568 - val_loss: 0.8789 - val_accuracy: 0.6042\n",
            "Epoch 3/20\n",
            "63/63 [==============================] - 46s 729ms/step - loss: 0.5964 - accuracy: 0.7608 - val_loss: 0.9193 - val_accuracy: 0.6112\n",
            "Epoch 4/20\n",
            "63/63 [==============================] - 49s 781ms/step - loss: 0.4509 - accuracy: 0.8259 - val_loss: 1.0159 - val_accuracy: 0.6052\n",
            "Epoch 5/20\n",
            "63/63 [==============================] - 45s 714ms/step - loss: 0.3510 - accuracy: 0.8692 - val_loss: 1.0857 - val_accuracy: 0.5917\n",
            "Epoch 6/20\n",
            "63/63 [==============================] - 46s 735ms/step - loss: 0.2796 - accuracy: 0.8979 - val_loss: 1.2766 - val_accuracy: 0.5772\n",
            "Epoch 7/20\n",
            "63/63 [==============================] - 44s 707ms/step - loss: 0.2357 - accuracy: 0.9128 - val_loss: 1.4505 - val_accuracy: 0.5922\n",
            "Epoch 8/20\n",
            "63/63 [==============================] - 44s 704ms/step - loss: 0.2045 - accuracy: 0.9270 - val_loss: 1.5170 - val_accuracy: 0.5832\n",
            "Epoch 9/20\n",
            "63/63 [==============================] - 47s 747ms/step - loss: 0.1762 - accuracy: 0.9358 - val_loss: 1.6318 - val_accuracy: 0.5892\n",
            "Epoch 10/20\n",
            "63/63 [==============================] - 45s 717ms/step - loss: 0.1589 - accuracy: 0.9430 - val_loss: 1.6444 - val_accuracy: 0.5907\n",
            "Epoch 11/20\n",
            "63/63 [==============================] - 46s 740ms/step - loss: 0.1436 - accuracy: 0.9479 - val_loss: 1.7806 - val_accuracy: 0.5782\n",
            "Epoch 12/20\n",
            "63/63 [==============================] - 47s 741ms/step - loss: 0.1238 - accuracy: 0.9561 - val_loss: 1.9063 - val_accuracy: 0.5807\n",
            "Epoch 13/20\n",
            "63/63 [==============================] - 49s 769ms/step - loss: 0.1079 - accuracy: 0.9611 - val_loss: 1.9838 - val_accuracy: 0.5822\n",
            "Epoch 14/20\n",
            "63/63 [==============================] - 46s 740ms/step - loss: 0.0976 - accuracy: 0.9664 - val_loss: 2.1121 - val_accuracy: 0.5887\n",
            "Epoch 15/20\n",
            "63/63 [==============================] - 45s 713ms/step - loss: 0.0852 - accuracy: 0.9713 - val_loss: 2.0848 - val_accuracy: 0.5832\n",
            "Epoch 16/20\n",
            "63/63 [==============================] - 47s 753ms/step - loss: 0.0822 - accuracy: 0.9701 - val_loss: 2.3243 - val_accuracy: 0.5907\n",
            "Epoch 17/20\n",
            "63/63 [==============================] - 47s 732ms/step - loss: 0.0812 - accuracy: 0.9721 - val_loss: 2.2355 - val_accuracy: 0.5827\n",
            "Epoch 18/20\n",
            "63/63 [==============================] - 44s 707ms/step - loss: 0.0680 - accuracy: 0.9770 - val_loss: 2.3708 - val_accuracy: 0.5857\n",
            "Epoch 19/20\n",
            "63/63 [==============================] - 46s 730ms/step - loss: 0.0589 - accuracy: 0.9811 - val_loss: 2.3806 - val_accuracy: 0.5822\n",
            "Epoch 20/20\n",
            "63/63 [==============================] - 45s 715ms/step - loss: 0.0536 - accuracy: 0.9818 - val_loss: 2.5102 - val_accuracy: 0.5822\n"
          ]
        }
      ]
    },
    {
      "cell_type": "code",
      "source": [
        "# Split the dataset into training and testing sets\n",
        "X_train, X_test, y_train, y_test = train_test_split(X, y, test_size=0.2, random_state=42, stratify=y)\n",
        "\n",
        "# Check the shapes of X_test and y_test\n",
        "print(\"Shape of X_test:\", X_test.shape)\n",
        "print(\"Shape of y_test:\", y_test.shape)"
      ],
      "metadata": {
        "colab": {
          "base_uri": "https://localhost:8080/"
        },
        "id": "KZPtZ_v27bjz",
        "outputId": "9dab27b0-0b1b-4323-a90a-e56e9e88c9e2"
      },
      "execution_count": 40,
      "outputs": [
        {
          "output_type": "stream",
          "name": "stdout",
          "text": [
            "Shape of X_test: (2001, 100)\n",
            "Shape of y_test: (2001, 3)\n"
          ]
        }
      ]
    },
    {
      "cell_type": "code",
      "source": [
        "# Evaluate the model on the test set\n",
        "score = model.evaluate(X_test, y_test, verbose=1)\n",
        "\n",
        "print(\"Test Loss:\", score[0])\n",
        "print(\"Test Accuracy:\", score[1])"
      ],
      "metadata": {
        "colab": {
          "base_uri": "https://localhost:8080/"
        },
        "id": "JN1xMr5h7dW5",
        "outputId": "433218ce-4db9-4c2f-9e04-23b90a964b9f"
      },
      "execution_count": 41,
      "outputs": [
        {
          "output_type": "stream",
          "name": "stdout",
          "text": [
            "63/63 [==============================] - 5s 77ms/step - loss: 0.4845 - accuracy: 0.9160\n",
            "Test Loss: 0.4845484495162964\n",
            "Test Accuracy: 0.9160419702529907\n"
          ]
        }
      ]
    },
    {
      "cell_type": "code",
      "source": [
        "from sklearn.metrics import confusion_matrix, classification_report\n",
        "import matplotlib.pyplot as plt\n",
        "import seaborn as sns\n",
        "from sklearn.metrics import confusion_matrix\n",
        "\n",
        "# Your code for creating and visualizing the confusion matrix goes here\n",
        "\n",
        "\n",
        "# Predictions\n",
        "y_pred = model.predict(X_test)\n",
        "\n",
        "# Convert probabilities to binary predictions\n",
        "y_pred_binary = (y_pred > 0.5).astype(int)\n",
        "\n",
        "# Assign true labels for the test set\n",
        "test_labels_np = y_test\n",
        "\n",
        "# Confusion Matrix\n",
        "conf_matrix = confusion_matrix(test_labels_np.argmax(axis=1), y_pred_binary.argmax(axis=1), labels=range(3))\n",
        "plt.figure(figsize=(8,6))\n",
        "sns.heatmap(conf_matrix, annot=True, fmt='d', cmap='Blues', xticklabels=['pos', 'neg', 'neu'], yticklabels=['pos', 'neg', 'neu'])\n",
        "plt.title('Confusion Matrix')\n",
        "plt.xlabel('Predicted')\n",
        "plt.ylabel('True')\n",
        "plt.show()"
      ],
      "metadata": {
        "colab": {
          "base_uri": "https://localhost:8080/",
          "height": 581
        },
        "id": "Qn_D0T-r7hle",
        "outputId": "4573e4f5-7bfd-4e8d-e5ad-6e0f5f6e8524"
      },
      "execution_count": 42,
      "outputs": [
        {
          "output_type": "stream",
          "name": "stdout",
          "text": [
            "63/63 [==============================] - 3s 34ms/step\n"
          ]
        },
        {
          "output_type": "display_data",
          "data": {
            "text/plain": [
              "<Figure size 800x600 with 2 Axes>"
            ],
            "image/png": "[encoded data removed]"
          },
          "metadata": {}
        }
      ]
    },
    {
      "cell_type": "code",
      "source": [
        "import pandas as pd\n",
        "from datetime import datetime\n",
        "import os\n",
        "\n",
        "# Assume train_data is your DataFrame from the Excel file\n",
        "# Perform preprocessing and model training here\n",
        "\n",
        "# Define the directory to save the trained model and Excel file\n",
        "save_dir = \"/path/to/save/location/\"\n",
        "\n",
        "# Create the directory if it doesn't exist\n",
        "if not os.path.exists(save_dir):\n",
        "    os.makedirs(save_dir)\n",
        "\n",
        "# Generate a timestamp for the filenames\n",
        "timestamp = datetime.now().strftime(\"%Y%m%d_%H%M%S\")\n",
        "\n",
        "# Define the filenames\n",
        "model_filename = f\"trained_model_{timestamp}.h5\"\n",
        "excel_filename = f\"test_data_{timestamp}.xlsx\"\n",
        "\n",
        "# Save the trained model to the specified directory\n",
        "model.save(os.path.join(save_dir, model_filename))\n",
        "\n",
        "# Print the location of the saved model\n",
        "model_file_path = os.path.join(save_dir, model_filename)\n",
        "print(\"Trained model saved to:\", model_file_path)\n",
        "\n",
        "# Now, save the preprocessed data to an Excel file in the same directory\n",
        "data.to_excel(os.path.join(save_dir, excel_filename), index=False)\n",
        "\n",
        "# Print the location of the saved Excel file\n",
        "excel_file_path = os.path.join(save_dir, excel_filename)\n",
        "print(\"Excel file saved to:\", excel_file_path)\n"
      ],
      "metadata": {
        "colab": {
          "base_uri": "https://localhost:8080/"
        },
        "id": "fBJEQyXD8OZ8",
        "outputId": "43605562-b556-4238-dd3e-464820b52963"
      },
      "execution_count": 43,
      "outputs": [
        {
          "output_type": "stream",
          "name": "stdout",
          "text": [
            "Trained model saved to: /path/to/save/location/trained_model_20240520_063921.h5\n",
            "Excel file saved to: /path/to/save/location/test_data_20240520_063921.xlsx\n"
          ]
        }
      ]
    },
    {
      "cell_type": "markdown",
      "metadata": {
        "id": "nJBP97lv8ZE9"
      },
      "source": [
        "# Feature Extraction"
      ]
    },
    {
      "cell_type": "code",
      "source": [
        "import pandas as pd\n",
        "from sklearn.model_selection import train_test_split\n",
        "\n",
        "# Load the data from the Excel file\n",
        "data = pd.read_excel('/path/to/save/location/test_data_20240520_063921.xlsx')\n",
        "\n",
        "# Split the data into training and testing sets\n",
        "train_data, test_data = train_test_split(data, test_size=0.2, random_state=42)\n",
        "\n",
        "# Save the training and testing data to separate Excel files\n",
        "train_data.to_excel('train_text.xlsx', index=False)\n",
        "test_data.to_excel('test_text.xlsx', index=False)\n"
      ],
      "metadata": {
        "id": "AklLhzus8Uht"
      },
      "execution_count": 44,
      "outputs": []
    },
    {
      "cell_type": "code",
      "source": [
        "from sklearn.feature_extraction.text import TfidfVectorizer\n",
        "\n",
        "# Load the training and testing text data\n",
        "train_data = pd.read_excel('train_text.xlsx')\n",
        "test_data = pd.read_excel('test_text.xlsx')\n",
        "\n",
        "# Extract the text data and labels from the training and testing sets\n",
        "train_text = train_data['comment']\n",
        "test_text = test_data['comment']\n",
        "train_labels = train_data[['target']]\n",
        "test_labels = test_data[['target']]\n",
        "\n",
        "# Create a TF-IDF vectorizer\n",
        "max_feature_num = 16500\n",
        "vectorizer = TfidfVectorizer(max_features=max_feature_num, ngram_range=(1, 1))\n",
        "\n",
        "# Fit the vectorizer on the training text and transform the training text into TF-IDF vectors\n",
        "train_vecs = vectorizer.fit_transform(train_text)\n",
        "\n",
        "# Transform the testing text into TF-IDF vectors\n",
        "test_vecs = vectorizer.transform(test_text)\n",
        "\n",
        "# Now train_vecs and test_vecs contain the TF-IDF vectors representing the training and testing text data, respectively\n"
      ],
      "metadata": {
        "id": "z2gkYRM98x5y"
      },
      "execution_count": 45,
      "outputs": []
    },
    {
      "cell_type": "markdown",
      "metadata": {
        "id": "jRWZ6FcM8ZFD"
      },
      "source": [
        "# Naive Bayes"
      ]
    },
    {
      "cell_type": "code",
      "source": [
        "from sklearn.naive_bayes import MultinomialNB\n",
        "from sklearn.multioutput import MultiOutputClassifier\n",
        "from sklearn.model_selection import GridSearchCV\n",
        "from sklearn.metrics import make_scorer, accuracy_score\n",
        "from sklearn.metrics import confusion_matrix\n",
        "from sklearn.metrics import classification_report\n",
        "# Create a Multilabel Naive Bayes classifier\n",
        "classifier = MultiOutputClassifier(MultinomialNB())\n",
        "\n",
        "# Define the hyperparameter grid for grid search\n",
        "param_grid = {\n",
        "    'estimator__alpha': [0.1, 0.5, 1.0],  # Smoothing parameter for MultinomialNB\n",
        "    'estimator__fit_prior': [True, False],  # Use class prior probabilities or not for MultinomialNB\n",
        "}\n",
        "\n",
        "# Define the evaluation metrics for grid search\n",
        "scoring = {\n",
        "    'Accuracy Score': make_scorer(accuracy_score)  # You can change 'macro' to 'micro' or 'weighted'\n",
        "}\n",
        "\n",
        "grid_search = GridSearchCV(estimator=classifier, param_grid=param_grid, scoring=scoring, cv=5, refit='Accuracy Score')\n",
        "grid_search.fit(train_vecs, train_labels)\n",
        "\n",
        "# Get the best hyperparameters and the corresponding model\n",
        "best_params = grid_search.best_params_\n",
        "best_model = grid_search.best_estimator_\n",
        "\n",
        "# Evaluate the best model on the test set\n",
        "predictions = best_model.predict(test_vecs)\n",
        "accuracy = accuracy_score(test_labels, predictions)\n",
        "# accuracy = accuracy_score(test_labels, predictions)\n",
        "print(\"Accuracy: \", accuracy)\n",
        "\n",
        "\n",
        "\n"
      ],
      "metadata": {
        "colab": {
          "base_uri": "https://localhost:8080/"
        },
        "id": "KcdjNRyq9wUN",
        "outputId": "e05a8924-1355-4358-f544-96ea4524db69"
      },
      "execution_count": 46,
      "outputs": [
        {
          "output_type": "stream",
          "name": "stdout",
          "text": [
            "Accuracy:  0.6121939030484758\n"
          ]
        }
      ]
    },
    {
      "cell_type": "code",
      "source": [
        "from sklearn.metrics import confusion_matrix, classification_report\n",
        "import seaborn as sns\n",
        "import matplotlib.pyplot as plt\n",
        "\n",
        "# Assuming train_labels and predictions are generated from the same dataset\n",
        "# Check and align the lengths of train_labels and predictions\n",
        "min_length = min(len(train_labels), len(predictions))\n",
        "train_labels = train_labels[:min_length]\n",
        "predictions = predictions[:min_length]\n",
        "\n",
        "# Define target names\n",
        "target_names = ['neg', 'neu', 'pos']\n",
        "\n",
        "# Print confusion matrix\n",
        "conf_matrix = confusion_matrix(train_labels, predictions)\n",
        "print(\"Confusion Matrix:\")\n",
        "print(conf_matrix)\n",
        "\n",
        "# Plot confusion matrix\n",
        "plt.figure(figsize=(8, 6))\n",
        "sns.heatmap(conf_matrix, annot=True, fmt='d', cmap='Blues', xticklabels=target_names, yticklabels=target_names)\n",
        "plt.title('Confusion Matrix')\n",
        "plt.xlabel('Predicted')\n",
        "plt.ylabel('True')\n",
        "plt.show()\n",
        "\n",
        "# Classification Report\n",
        "class_report = classification_report(test_labels_np, predictions, target_names=['pos', 'neg', 'neu'])\n",
        "print(\"\\nClassification Report:\\n\", class_report)\n",
        "\n",
        "\n",
        "\n"
      ],
      "metadata": {
        "colab": {
          "base_uri": "https://localhost:8080/",
          "height": 842
        },
        "id": "lT7AG5FVJuvw",
        "outputId": "039bf3f8-ea8e-4b46-d72e-fbc3474b94a3"
      },
      "execution_count": null,
      "outputs": [
        {
          "output_type": "stream",
          "name": "stdout",
          "text": [
            "Confusion Matrix:\n",
            "[[285 241 228]\n",
            " [258 201 184]\n",
            " [247 175 182]]\n"
          ]
        },
        {
          "output_type": "display_data",
          "data": {
            "text/plain": [
              "<Figure size 800x600 with 2 Axes>"
            ],
            "image/png": "[encoded data removed]"
          },
          "metadata": {}
        },
        {
          "output_type": "stream",
          "name": "stdout",
          "text": [
            "\n",
            "Classification Report:\n",
            "               precision    recall  f1-score   support\n",
            "\n",
            "         pos       0.67      0.68      0.68       780\n",
            "         neg       0.54      0.54      0.54       617\n",
            "         neu       0.64      0.63      0.64       604\n",
            "\n",
            "    accuracy                           0.62      2001\n",
            "   macro avg       0.62      0.62      0.62      2001\n",
            "weighted avg       0.62      0.62      0.62      2001\n",
            "\n"
          ]
        }
      ]
    },
    {
      "cell_type": "markdown",
      "metadata": {
        "id": "V17j5teSiZB3"
      },
      "source": [
        "# Logistic Regression"
      ]
    },
    {
      "cell_type": "code",
      "source": [
        "from sklearn.model_selection import GridSearchCV\n",
        "from sklearn.linear_model import LogisticRegression\n",
        "from sklearn.multioutput import MultiOutputClassifier\n",
        "from sklearn.metrics import make_scorer, hamming_loss, jaccard_score, accuracy_score\n",
        "from sklearn.metrics import confusion_matrix, classification_report\n",
        "import seaborn as sns\n",
        "import matplotlib.pyplot as plt\n",
        "import numpy as np\n",
        "# Create a multilabel classifier using Logistic Regression\n",
        "classifier = MultiOutputClassifier(LogisticRegression(max_iter=20000,class_weight='balanced'))\n",
        "\n",
        "# Define the hyperparameter grid for grid search\n",
        "param_grid = {\n",
        "    'estimator__C': [0.01, 0.1, 1.0, 10.0],  # Regularization parameter (smaller values for stronger regularization)\n",
        "    'estimator__solver': ['liblinear', 'lbfgs']\n",
        "}\n",
        "# Define the evaluation metrics for grid search (you can add more metrics if needed)\n",
        "scoring = {\n",
        "    'Accuracy Score': make_scorer(accuracy_score),\n",
        "}\n",
        "\n",
        "# Perform grid search with cross-validation\n",
        "grid_search = GridSearchCV(estimator=classifier, param_grid=param_grid, scoring=scoring, cv=5, refit='Accuracy Score')\n",
        "grid_search.fit(train_vecs, train_labels)\n",
        "\n",
        "# Get the best hyperparameters and the corresponding model\n",
        "best_params = grid_search.best_params_\n",
        "best_model = grid_search.best_estimator_\n",
        "\n",
        "# Evaluate the best model on the test set\n",
        "predictions = best_model.predict(test_vecs)\n",
        "accuracy = accuracy_score(test_labels, predictions)\n",
        "print(\"Accuracy\", accuracy)\n",
        "test_labels_np = test_labels.to_numpy()\n",
        "\n"
      ],
      "metadata": {
        "colab": {
          "base_uri": "https://localhost:8080/"
        },
        "id": "EnZ6EWN4_Eg7",
        "outputId": "26c78dbf-0e9e-49b5-9340-7bebc9d8163e"
      },
      "execution_count": null,
      "outputs": [
        {
          "output_type": "stream",
          "name": "stdout",
          "text": [
            "Accuracy 0.6216891554222889\n"
          ]
        }
      ]
    },
    {
      "cell_type": "code",
      "source": [
        "from sklearn.metrics import confusion_matrix, classification_report\n",
        "from sklearn.model_selection import GridSearchCV\n",
        "from sklearn.linear_model import LogisticRegression\n",
        "from sklearn.metrics import make_scorer, accuracy_score, classification_report\n",
        "from sklearn.metrics import confusion_matrix\n",
        "import seaborn as sns\n",
        "import matplotlib.pyplot as plt\n",
        "\n",
        "# Confusion Matrix\n",
        "conf_matrix = confusion_matrix(test_labels, predictions, labels=['pos', 'neg', 'neu'])\n",
        "plt.figure(figsize=(8, 6))\n",
        "sns.heatmap(conf_matrix, annot=True, fmt='d', cmap='Blues', xticklabels=['pos', 'neg', 'neu'], yticklabels=['pos', 'neg', 'neu'])\n",
        "plt.title('Confusion Matrix')\n",
        "plt.xlabel('Predicted')\n",
        "plt.ylabel('True')\n",
        "plt.show()\n",
        "\n",
        "# Classification Report\n",
        "class_report = classification_report(test_labels_np, predictions, target_names=['pos', 'neg', 'neu'])\n",
        "print(\"\\nClassification Report:\\n\", class_report)\n"
      ],
      "metadata": {
        "colab": {
          "base_uri": "https://localhost:8080/",
          "height": 772
        },
        "id": "oKvcTqdBBU4E",
        "outputId": "1da932f7-6781-43cf-9b2a-72538d30e52e"
      },
      "execution_count": null,
      "outputs": [
        {
          "output_type": "display_data",
          "data": {
            "text/plain": [
              "<Figure size 800x600 with 2 Axes>"
            ],
            "image/png": "[encoded data removed]"
          },
          "metadata": {}
        },
        {
          "output_type": "stream",
          "name": "stdout",
          "text": [
            "\n",
            "Classification Report:\n",
            "               precision    recall  f1-score   support\n",
            "\n",
            "         pos       0.67      0.68      0.68       780\n",
            "         neg       0.54      0.54      0.54       617\n",
            "         neu       0.64      0.63      0.64       604\n",
            "\n",
            "    accuracy                           0.62      2001\n",
            "   macro avg       0.62      0.62      0.62      2001\n",
            "weighted avg       0.62      0.62      0.62      2001\n",
            "\n"
          ]
        }
      ]
    },
    {
      "cell_type": "markdown",
      "metadata": {
        "id": "qXDEkCPuxouq"
      },
      "source": [
        "# SVM"
      ]
    },
    {
      "cell_type": "code",
      "source": [
        "import numpy as np\n",
        "from sklearn.model_selection import train_test_split\n",
        "from sklearn.feature_extraction.text import TfidfVectorizer\n",
        "from sklearn.svm import SVC\n",
        "from sklearn.multiclass import OneVsRestClassifier\n",
        "from sklearn.metrics import classification_report\n",
        "from sklearn.metrics import confusion_matrix, classification_report\n",
        "import seaborn as sns\n",
        "import matplotlib.pyplot as plt\n",
        "\n",
        "# Train One-vs-Rest SVMs\n",
        "from sklearn.svm import LinearSVC\n",
        "\n",
        "svmClassifier = OneVsRestClassifier(LinearSVC(), n_jobs=-1)\n",
        "svmClassifier.fit(train_vecs, train_labels)\n",
        "\n",
        "svmPreds = svmClassifier.predict(test_vecs)\n",
        "accuracy = accuracy_score(test_labels, svmPreds)\n",
        "print(\"Accuracy: \",accuracy)\n",
        "test_labels_np = test_labels.to_numpy()\n"
      ],
      "metadata": {
        "colab": {
          "base_uri": "https://localhost:8080/"
        },
        "id": "DIPIyHiGC6m9",
        "outputId": "6a8fb140-dd15-4b62-af09-5c714b87ec18"
      },
      "execution_count": null,
      "outputs": [
        {
          "output_type": "stream",
          "name": "stdout",
          "text": [
            "Accuracy:  0.6156921539230384\n"
          ]
        }
      ]
    },
    {
      "cell_type": "code",
      "source": [
        "# Confusion Matrix\n",
        "conf_matrix = confusion_matrix(test_labels_np.argmax(axis=1), predictions.argmax(axis=1), labels=range(3))\n",
        "plt.figure(figsize=(8, 6))\n",
        "sns.heatmap(conf_matrix, annot=True, fmt='d', cmap='Blues', xticklabels=['pos', 'neg', 'neu'], yticklabels=['pos', 'neg', 'neu'])\n",
        "plt.title('Confusion Matrix')\n",
        "plt.xlabel('Predicted')\n",
        "plt.ylabel('True')\n",
        "plt.show()\n",
        "\n",
        "# Classification Report\n",
        "class_report = classification_report(test_labels_np, predictions, target_names=['pos', 'neg', 'neu'])\n",
        "print(\"\\nClassification Report:\\n\", class_report)"
      ],
      "metadata": {
        "colab": {
          "base_uri": "https://localhost:8080/",
          "height": 772
        },
        "id": "_ePvAU5pDxGw",
        "outputId": "7239b9b5-6e91-4436-d1f6-fb78b1d3190a"
      },
      "execution_count": null,
      "outputs": [
        {
          "output_type": "display_data",
          "data": {
            "text/plain": [
              "<Figure size 800x600 with 2 Axes>"
            ],
            "image/png": "[encoded data removed]"
          },
          "metadata": {}
        },
        {
          "output_type": "stream",
          "name": "stdout",
          "text": [
            "\n",
            "Classification Report:\n",
            "               precision    recall  f1-score   support\n",
            "\n",
            "         pos       0.67      0.68      0.68       780\n",
            "         neg       0.54      0.54      0.54       617\n",
            "         neu       0.64      0.63      0.64       604\n",
            "\n",
            "    accuracy                           0.62      2001\n",
            "   macro avg       0.62      0.62      0.62      2001\n",
            "weighted avg       0.62      0.62      0.62      2001\n",
            "\n"
          ]
        }
      ]
    },
    {
      "cell_type": "markdown",
      "metadata": {
        "id": "H3AIV1kVxtir"
      },
      "source": [
        "# KNN"
      ]
    },
    {
      "cell_type": "code",
      "source": [
        "from sklearn.neighbors import KNeighborsClassifier\n",
        "from sklearn.model_selection import KFold #for K-fold cross validation\n",
        "from sklearn.model_selection import cross_val_score #score evaluation\n",
        "from sklearn.model_selection import cross_val_predict #prediction\n",
        "from sklearn.metrics import confusion_matrix #for confusion matrix\n",
        "import matplotlib.pyplot as plt\n",
        "import seaborn as sns\n",
        "model = KNeighborsClassifier(n_neighbors = 25)\n",
        "model.fit(train_vecs, train_labels)\n",
        "dt_knn=model.predict(test_vecs)\n",
        "kfold = KFold(n_splits=10, random_state=22, shuffle = True) # k=10, split the data into 10 equal parts=\n",
        "result_knn=cross_val_score(model,train_vecs,train_labels,cv=kfold,scoring='accuracy')\n",
        "print('The overall score for K Nearest Neighbors Classifier is:',round(result_knn.mean()*100,2))\n",
        "y_pred = cross_val_predict(model,test_vecs,test_labels,cv=10)\n",
        "test_labels_np = test_labels.to_numpy()\n",
        "\n"
      ],
      "metadata": {
        "colab": {
          "base_uri": "https://localhost:8080/"
        },
        "id": "Rs22ZwhVExji",
        "outputId": "00251345-8f0e-4768-fe64-a9b547d58915"
      },
      "execution_count": null,
      "outputs": [
        {
          "output_type": "stream",
          "name": "stdout",
          "text": [
            "The overall score for K Nearest Neighbors Classifier is: 57.83\n"
          ]
        }
      ]
    },
    {
      "cell_type": "code",
      "source": [
        "\n",
        "# Confusion Matrix\n",
        "conf_matrix = confusion_matrix(test_labels_np.argmax(axis=1), predictions.argmax(axis=1), labels=range(3))\n",
        "plt.figure(figsize=(8, 6))\n",
        "sns.heatmap(conf_matrix, annot=True, fmt='d', cmap='Blues', xticklabels=['pos', 'neg', 'neu'], yticklabels=['pos', 'neg', 'neu'])\n",
        "plt.title('Confusion Matrix')\n",
        "plt.xlabel('Predicted')\n",
        "plt.ylabel('True')\n",
        "plt.show()\n",
        "\n",
        "# Classification Report\n",
        "class_report = classification_report(test_labels_np, predictions, target_names=['pos', 'neg', 'neu'])\n",
        "print(\"\\nClassification Report:\\n\", class_report)"
      ],
      "metadata": {
        "colab": {
          "base_uri": "https://localhost:8080/",
          "height": 772
        },
        "id": "Gn6xz9cMIUjU",
        "outputId": "26d354c0-6fe2-49d8-f45a-ab6b717e270a"
      },
      "execution_count": null,
      "outputs": [
        {
          "output_type": "display_data",
          "data": {
            "text/plain": [
              "<Figure size 800x600 with 2 Axes>"
            ],
            "image/png": "[encoded data removed]"
          },
          "metadata": {}
        },
        {
          "output_type": "stream",
          "name": "stdout",
          "text": [
            "\n",
            "Classification Report:\n",
            "               precision    recall  f1-score   support\n",
            "\n",
            "         pos       0.67      0.68      0.68       780\n",
            "         neg       0.54      0.54      0.54       617\n",
            "         neu       0.64      0.63      0.64       604\n",
            "\n",
            "    accuracy                           0.62      2001\n",
            "   macro avg       0.62      0.62      0.62      2001\n",
            "weighted avg       0.62      0.62      0.62      2001\n",
            "\n"
          ]
        }
      ]
    }
  ]
}